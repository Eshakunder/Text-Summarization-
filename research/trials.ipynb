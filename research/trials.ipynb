{
 "cells": [
  {
   "cell_type": "code",
   "execution_count": null,
   "id": "88389ad3",
   "metadata": {},
   "outputs": [],
   "source": [
    "# from ensure import ensure_annotations\n",
    "# @ensure_annotations\n",
    "# def get_product(x:int ,y:int) -> int:\n",
    "#     return x*y\n",
    "# get_product(x=2,y=4)#runs correctly\n",
    "# get_product(x=2,y=\"4\")#gives error -Argument y of type <class 'str'> to <function get_product at 0x103973060> does not match annotation type <class 'int'>\n",
    "\n",
    "# #without ensure annotations\n",
    "# def get_product(x:int ,y:int) -> int:\n",
    "#     return x*y\n",
    "# get_product(x=2,y=\"4\") - > works correctly which is wrong"
   ]
  },
  {
   "cell_type": "code",
   "execution_count": null,
   "id": "4d589eb2",
   "metadata": {},
   "outputs": [],
   "source": []
  }
 ],
 "metadata": {
  "kernelspec": {
   "display_name": "venv",
   "language": "python",
   "name": "python3"
  },
  "language_info": {
   "codemirror_mode": {
    "name": "ipython",
    "version": 3
   },
   "file_extension": ".py",
   "mimetype": "text/x-python",
   "name": "python",
   "nbconvert_exporter": "python",
   "pygments_lexer": "ipython3",
   "version": "3.11.4"
  }
 },
 "nbformat": 4,
 "nbformat_minor": 5
}
